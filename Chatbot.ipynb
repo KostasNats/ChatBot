{
  "nbformat": 4,
  "nbformat_minor": 0,
  "metadata": {
    "colab": {
      "provenance": []
    },
    "kernelspec": {
      "name": "python3",
      "display_name": "Python 3"
    },
    "language_info": {
      "name": "python"
    }
  },
  "cells": [
    {
      "cell_type": "code",
      "execution_count": 1,
      "metadata": {
        "id": "r1F2g6hh6ZoO"
      },
      "outputs": [],
      "source": [
        "class Bot :\n",
        "  def __init__(self) :\n",
        "     self.keywords = [\"Hello\", \"Age\",\"Number\",\"Knowledge\"]\n",
        "  def Salute(self, botname) :\n",
        "    print(\"hello my name is:\", botname)\n",
        "    print(\"I was created in 2023\")\n",
        "  def Name(self) :\n",
        "    print(\"Please remind me your  name\")\n",
        "    user_name = input()\n",
        "    print(\"what great name you have\", user_name)\n",
        "  def GuessAge(self) :\n",
        "    print (\"Let me guess your age\")\n",
        "    print (\"Enter remainders of dividing your age by 3, 5 and 7.\")\n",
        "    remainder3 = input()\n",
        "    remainder5 = input()\n",
        "    remainder7 = input()\n",
        "\n",
        "    remainder3 = int(remainder3)\n",
        "    remainder5 = int(remainder5)\n",
        "    remainder7 = int(remainder7)\n",
        "    age = (remainder3 * 70 + remainder5 * 21 + remainder7 * 15) % 105\n",
        "    print(\"your age is :\", age)\n",
        "\n",
        "  def Knowledge(self):\n",
        "    print(\"Let's test your programming knowledge.\")\n",
        "    print(\"Why do we use methods?\")\n",
        "    print(\"1. To repeat a statement multiple times.\")\n",
        "    print(\"2. To decompose a program into several small subroutines.\")\n",
        "    print(\"3. To determine the execution time of a program.\")\n",
        "    print(\"4. To interrupt the execution of a program.\")\n",
        "\n",
        "    correctanswner = 2\n",
        "    answer = input()\n",
        "    answer = int(answer)\n",
        "    if answer == correctanswner :\n",
        "      print(\"congratulations\")\n",
        "    else :\n",
        "      print(\"try again\")\n",
        "\n"
      ]
    },
    {
      "cell_type": "code",
      "source": [
        "mybot = Bot()\n",
        "\n",
        "while(True) :\n",
        "  user = input()\n",
        "  if user == \"hello\" :\n",
        "    mybot.Salute(\"kostas\")\n",
        "\n",
        "  if user == \"name\" :\n",
        "    mybot.Name()\n",
        "\n",
        "  if user == \"GuessAge\" :\n",
        "    mybot.GuessAge()\n",
        "\n",
        "  if user == \"Knowledge\" :\n",
        "    mybot.Knowledge()\n",
        "\n",
        "  if user == \"exit\" :\n",
        "    break\n"
      ],
      "metadata": {
        "id": "T-kYUki0Hqzm",
        "outputId": "23a4c34c-5805-4481-b354-d8c7e603c775",
        "colab": {
          "base_uri": "https://localhost:8080/"
        }
      },
      "execution_count": 2,
      "outputs": [
        {
          "name": "stdout",
          "output_type": "stream",
          "text": [
            "hello\n",
            "hello my name is: kostas\n",
            "I was created in 2023\n",
            "name\n",
            "Please remind me your  name\n",
            "kostas\n",
            "what great name you have kostas\n",
            "knowledge\n",
            "Knowledge\n",
            "Let's test your programming knowledge.\n",
            "Why do we use methods?\n",
            "1. To repeat a statement multiple times.\n",
            "2. To decompose a program into several small subroutines.\n",
            "3. To determine the execution time of a program.\n",
            "4. To interrupt the execution of a program.\n",
            "2\n",
            "congratulations\n",
            "GuessAge\n",
            "Let me guess your age\n",
            "Enter remainders of dividing your age by 3, 5 and 7.\n",
            "2\n",
            "3\n",
            "6\n",
            "your age is : 83\n",
            "exit\n"
          ]
        }
      ]
    }
  ]
}